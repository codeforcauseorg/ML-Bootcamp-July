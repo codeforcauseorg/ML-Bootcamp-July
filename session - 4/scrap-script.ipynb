{
 "cells": [
  {
   "cell_type": "code",
   "execution_count": 11,
   "metadata": {},
   "outputs": [],
   "source": [
    "import requests"
   ]
  },
  {
   "cell_type": "code",
   "execution_count": 12,
   "metadata": {},
   "outputs": [],
   "source": [
    "from bs4 import BeautifulSoup"
   ]
  },
  {
   "cell_type": "code",
   "execution_count": 13,
   "metadata": {},
   "outputs": [],
   "source": [
    "url = \"https://www.goodreads.com/quotes/tag/{}?page={}\"\n"
   ]
  },
  {
   "cell_type": "code",
   "execution_count": 14,
   "metadata": {},
   "outputs": [],
   "source": [
    "def get_quotes(url):    \n",
    "    \n",
    "    res = requests.get(url)\n",
    "\n",
    "    soup = BeautifulSoup(res.text)\n",
    "\n",
    "    quote_divs = soup.find_all(\"div\", attrs={\"class\" : \"quote\"})\n",
    "\n",
    "    quotes = []\n",
    "\n",
    "    for quote_div in quote_divs:\n",
    "\n",
    "        quoteText_div = quote_div.find_next(\"div\", attrs={\"class\" : \"quoteText\"})\n",
    "\n",
    "        striped = quoteText_div.text.strip()\n",
    "\n",
    "        striped_li = striped.split(\"\\n\")\n",
    "\n",
    "        quote = striped_li[0][1:-1]\n",
    "        author = striped_li[-1].strip()\n",
    "\n",
    "        left_div = quote_div.find_next(\"div\", attrs={\"class\" : \"left\"})\n",
    "        tags = [tag.text for tag in left_div.find_all(\"a\")]\n",
    "\n",
    "        quote_item = {\n",
    "            \"text\" : quote,\n",
    "            \"author\" : author,\n",
    "            \"tags\" : tags\n",
    "        }\n",
    "\n",
    "        quotes.append(quote_item)\n",
    "    \n",
    "    return quotes\n",
    "\n"
   ]
  },
  {
   "cell_type": "code",
   "execution_count": 15,
   "metadata": {},
   "outputs": [
    {
     "name": "stdout",
     "output_type": "stream",
     "text": [
      "processed 1\n",
      "processed 2\n",
      "processed 3\n",
      "processed 4\n",
      "processed 5\n"
     ]
    }
   ],
   "source": [
    "total = []\n",
    "for i in range(1, 6):\n",
    "    total.extend(get_quotes(url.format(\"love\", i)))\n",
    "    print(\"processed\", i)"
   ]
  },
  {
   "cell_type": "code",
   "execution_count": 16,
   "metadata": {},
   "outputs": [
    {
     "data": {
      "text/plain": [
       "150"
      ]
     },
     "execution_count": 16,
     "metadata": {},
     "output_type": "execute_result"
    }
   ],
   "source": [
    "len(total)"
   ]
  },
  {
   "cell_type": "code",
   "execution_count": 18,
   "metadata": {},
   "outputs": [],
   "source": [
    "import pandas as pd"
   ]
  },
  {
   "cell_type": "code",
   "execution_count": 21,
   "metadata": {},
   "outputs": [],
   "source": [
    "df = pd.DataFrame(total)"
   ]
  },
  {
   "cell_type": "code",
   "execution_count": 23,
   "metadata": {},
   "outputs": [],
   "source": [
    "df.to_csv(\"scrap.csv\", index=None)"
   ]
  },
  {
   "cell_type": "code",
   "execution_count": null,
   "metadata": {},
   "outputs": [],
   "source": []
  }
 ],
 "metadata": {
  "kernelspec": {
   "display_name": "Python 3",
   "language": "python",
   "name": "python3"
  },
  "language_info": {
   "codemirror_mode": {
    "name": "ipython",
    "version": 3
   },
   "file_extension": ".py",
   "mimetype": "text/x-python",
   "name": "python",
   "nbconvert_exporter": "python",
   "pygments_lexer": "ipython3",
   "version": "3.7.6"
  }
 },
 "nbformat": 4,
 "nbformat_minor": 4
}
